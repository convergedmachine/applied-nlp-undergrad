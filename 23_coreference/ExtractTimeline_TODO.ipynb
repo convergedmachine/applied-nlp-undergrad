{
 "cells": [
  {
   "cell_type": "markdown",
   "metadata": {},
   "source": [
    "This homework explores coreference resolution for the task of timeline generation: for a given biography on Wikipedia, can you extract all of the events associated with the people mentioned and create one timeline for each person?"
   ]
  },
  {
   "cell_type": "code",
   "execution_count": null,
   "metadata": {},
   "outputs": [],
   "source": [
    "import wikipedia\n",
    "import spacy\n",
    "import neuralcoref\n",
    "import re\n",
    "import operator"
   ]
  },
  {
   "cell_type": "code",
   "execution_count": null,
   "metadata": {},
   "outputs": [],
   "source": [
    "nlp = spacy.load('en')\n",
    "# workaround if you are getting an error loading the sapcy 'en' module:\n",
    "# nlp = spacy.load('en_core_web_sm')\n",
    "coref = neuralcoref.NeuralCoref(nlp.vocab)\n",
    "nlp.add_pipe(coref, name='neuralcoref')"
   ]
  },
  {
   "cell_type": "code",
   "execution_count": null,
   "metadata": {},
   "outputs": [],
   "source": [
    "biography = wikipedia.page(\"Harrison Ford\")"
   ]
  },
  {
   "cell_type": "code",
   "execution_count": null,
   "metadata": {},
   "outputs": [],
   "source": [
    "doc=nlp(biography.content)"
   ]
  },
  {
   "cell_type": "markdown",
   "metadata": {},
   "source": [
    "Q1. Create a method `extract_timeline` to construct a timeline for the subject of the Wikipedia biography; the timeline should be comprised of events (i.e., verbs) in the biography that the subject participates in and that can be grounded to a year. Your criteria:\n",
    "\n",
    "- Only include events in sentences that contain a year.\n",
    "- Only include events that the target of the Wikipedia biography is involved in.\n",
    "- Only include events where that target person is the subject or direct object of the verb.\n",
    "\n",
    "Your function should return a dict mapping a sentence where those criteria are satisfied to the date mentioned in that sentence.  For example, assume the following to be a biography of the target *Bach*:\n",
    "\n",
    "> Bach is a composer.  He was born in 1685.  He composed 6 suites for solo cello in 1717. Anna Magdalena Wilcke met him in 1721.  Handel was a contemporary and was also born in 1685. Bach's dog was born in 1723.  \n",
    "\n",
    "Your function should return the following dict:\n",
    "\n",
    "{\"He was born in 1685\": 1685, \"He composed 6 suites for solo cello in 1717\": 1717, \"Anna Magdalena Wilcke met him in 1721\": 1721}\n",
    "\n",
    "We exclude the other sentences because:\n",
    "\n",
    "- \"Bach is a composer\" does not mention a date.\n",
    "- Bach is not mentioned in \"Handel was a contemporary and was also born in 1685.\"\n",
    "- Bach is not the subject or direct object of \"Bach's dog was born in 1723\""
   ]
  },
  {
   "cell_type": "code",
   "execution_count": null,
   "metadata": {},
   "outputs": [],
   "source": [
    "def extract_timeline(doc):\n",
    "    \n",
    "    events={}\n",
    "    \n",
    "    # your code here\n",
    "\n",
    "    return events"
   ]
  },
  {
   "cell_type": "markdown",
   "metadata": {},
   "source": [
    "Let's print that extracted timeline from oldest to newest events."
   ]
  },
  {
   "cell_type": "code",
   "execution_count": null,
   "metadata": {},
   "outputs": [],
   "source": [
    "events=extract_timeline(doc)\n",
    "for k,v in sorted(events.items(), key=operator.itemgetter(1)):\n",
    "    print(\"%s\\t%s\" % (v, k))"
   ]
  },
  {
   "cell_type": "code",
   "execution_count": null,
   "metadata": {},
   "outputs": [],
   "source": []
  }
 ],
 "metadata": {
  "kernelspec": {
   "display_name": "Python 3",
   "language": "python",
   "name": "python3"
  },
  "language_info": {
   "codemirror_mode": {
    "name": "ipython",
    "version": 3
   },
   "file_extension": ".py",
   "mimetype": "text/x-python",
   "name": "python",
   "nbconvert_exporter": "python",
   "pygments_lexer": "ipython3",
   "version": "3.7.2"
  }
 },
 "nbformat": 4,
 "nbformat_minor": 2
}
